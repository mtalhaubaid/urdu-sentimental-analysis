{
 "cells": [
  {
   "cell_type": "markdown",
   "metadata": {
    "id": "CkfmoJf7I_hA"
   },
   "source": [
    "# Importing the Libraries"
   ]
  },
  {
   "cell_type": "code",
   "execution_count": 1,
   "metadata": {
    "executionInfo": {
     "elapsed": 5350,
     "status": "ok",
     "timestamp": 1675515964372,
     "user": {
      "displayName": "Talha Ubaid",
      "userId": "02581465239648343840"
     },
     "user_tz": -300
    },
    "id": "fJGtsjqFI_hF"
   },
   "outputs": [],
   "source": [
    "import re\n",
    "import os\n",
    "import pandas as pd\n",
    "import numpy as np\n",
    "from nltk.corpus import stopwords\n",
    "\n",
    "from urduhack.preprocessing import *\n",
    "from urduhack.tokenization import *\n",
    "from urduhack.normalization import *\n",
    "\n",
    "from nltk.stem import WordNetLemmatizer\n",
    "lemma = WordNetLemmatizer()\n",
    "\n",
    "from sklearn.feature_extraction.text import TfidfVectorizer, CountVectorizer\n",
    "\n",
    "from sklearn.model_selection import train_test_split\n",
    "from sklearn.metrics import classification_report, confusion_matrix,accuracy_score"
   ]
  },
  {
   "cell_type": "markdown",
   "metadata": {
    "id": "3cQtuTt6I_hH"
   },
   "source": [
    "# Reading the train data from all the csv files in the dataset folder and merging into a single dataframe "
   ]
  },
  {
   "cell_type": "code",
   "execution_count": 2,
   "metadata": {
    "executionInfo": {
     "elapsed": 7380,
     "status": "ok",
     "timestamp": 1675515971751,
     "user": {
      "displayName": "Talha Ubaid",
      "userId": "02581465239648343840"
     },
     "user_tz": -300
    },
    "id": "ZTu9t4r7I_hI",
    "scrolled": true,
    "tags": []
   },
   "outputs": [],
   "source": [
    "train_data = pd.DataFrame(columns = ['TEXT','EMOTIONS'])\n",
    "for i in os.listdir(\"Datasets\"):\n",
    "    df = pd.read_excel(\"Datasets/\" + i)\n",
    "    df.columns = df.iloc[0,:].values\n",
    "    df = df.iloc[1:,:]\n",
    "    df = df[['TEXT','EMOTIONS']]\n",
    "    train_data = pd.concat([train_data, df])"
   ]
  },
  {
   "cell_type": "markdown",
   "metadata": {
    "id": "GEb-KafLI_hI"
   },
   "source": [
    "# Now loading the test csv file"
   ]
  },
  {
   "cell_type": "code",
   "execution_count": 3,
   "metadata": {
    "executionInfo": {
     "elapsed": 19,
     "status": "ok",
     "timestamp": 1675515971752,
     "user": {
      "displayName": "Talha Ubaid",
      "userId": "02581465239648343840"
     },
     "user_tz": -300
    },
    "id": "FKeKrtSGI_hJ"
   },
   "outputs": [],
   "source": [
    "test_data = pd.read_excel(\"test-urdu-test.xlsx\")"
   ]
  },
  {
   "cell_type": "markdown",
   "metadata": {
    "id": "821jqaZdI_hJ"
   },
   "source": [
    "# Extracting the text and emotions data from the dataset"
   ]
  },
  {
   "cell_type": "code",
   "execution_count": 4,
   "metadata": {
    "executionInfo": {
     "elapsed": 19,
     "status": "ok",
     "timestamp": 1675515971752,
     "user": {
      "displayName": "Talha Ubaid",
      "userId": "02581465239648343840"
     },
     "user_tz": -300
    },
    "id": "-tAJde3TI_hK"
   },
   "outputs": [],
   "source": [
    "test_data.columns = test_data.iloc[1,:].values \n",
    "test_data = test_data.iloc[2:,:]\n",
    "test_data = test_data[['TEXT', 'EMOTIONS']]"
   ]
  },
  {
   "cell_type": "code",
   "execution_count": 5,
   "metadata": {
    "executionInfo": {
     "elapsed": 19,
     "status": "ok",
     "timestamp": 1675515971753,
     "user": {
      "displayName": "Talha Ubaid",
      "userId": "02581465239648343840"
     },
     "user_tz": -300
    },
    "id": "lD-SAoqmI_hL"
   },
   "outputs": [],
   "source": [
    "test_data['EMOTIONS'] = test_data['EMOTIONS'].str.upper()"
   ]
  },
  {
   "cell_type": "markdown",
   "metadata": {
    "id": "a6GKcwtgI_hM"
   },
   "source": [
    "# Combining the both dataframes"
   ]
  },
  {
   "cell_type": "code",
   "execution_count": 6,
   "metadata": {
    "executionInfo": {
     "elapsed": 18,
     "status": "ok",
     "timestamp": 1675515971753,
     "user": {
      "displayName": "Talha Ubaid",
      "userId": "02581465239648343840"
     },
     "user_tz": -300
    },
    "id": "YOhb6FaZI_hM"
   },
   "outputs": [],
   "source": [
    "dataset = pd.concat([train_data,test_data])"
   ]
  },
  {
   "cell_type": "markdown",
   "metadata": {
    "id": "RF9Aam7OI_hN"
   },
   "source": [
    "# Extracting the labeled data records"
   ]
  },
  {
   "cell_type": "code",
   "execution_count": 7,
   "metadata": {
    "executionInfo": {
     "elapsed": 19,
     "status": "ok",
     "timestamp": 1675515971754,
     "user": {
      "displayName": "Talha Ubaid",
      "userId": "02581465239648343840"
     },
     "user_tz": -300
    },
    "id": "ZxyeJ7ZQI_hN"
   },
   "outputs": [],
   "source": [
    "selected_dataset =  dataset[(dataset['EMOTIONS'] == 'T') |\n",
    "                            (dataset['EMOTIONS'] == 'E') |\n",
    "                            (dataset['EMOTIONS'] == 'S') |\n",
    "                            (dataset['EMOTIONS'] == 'D') |\n",
    "                            (dataset['EMOTIONS'] == 'P') |\n",
    "                            (dataset['EMOTIONS'] == 'H') |\n",
    "                            (dataset['EMOTIONS'] == 'A')]"
   ]
  },
  {
   "cell_type": "code",
   "execution_count": 8,
   "metadata": {
    "colab": {
     "base_uri": "https://localhost:8080/"
    },
    "executionInfo": {
     "elapsed": 19,
     "status": "ok",
     "timestamp": 1675515971754,
     "user": {
      "displayName": "Talha Ubaid",
      "userId": "02581465239648343840"
     },
     "user_tz": -300
    },
    "id": "xlRwZu-RI_hO",
    "outputId": "66c46000-0b33-4b99-c0f7-ecf6b09f228c"
   },
   "outputs": [
    {
     "data": {
      "text/plain": [
       "array(['H', 'S', 'A', 'D', 'P', 'T', 'E'], dtype=object)"
      ]
     },
     "execution_count": 8,
     "metadata": {},
     "output_type": "execute_result"
    }
   ],
   "source": [
    "selected_dataset['EMOTIONS'].unique()"
   ]
  },
  {
   "cell_type": "markdown",
   "metadata": {
    "id": "nShQswDQI_hP"
   },
   "source": [
    "# Checking for the dataset is balanced or not"
   ]
  },
  {
   "cell_type": "code",
   "execution_count": 9,
   "metadata": {
    "colab": {
     "base_uri": "https://localhost:8080/"
    },
    "executionInfo": {
     "elapsed": 17,
     "status": "ok",
     "timestamp": 1675515971755,
     "user": {
      "displayName": "Talha Ubaid",
      "userId": "02581465239648343840"
     },
     "user_tz": -300
    },
    "id": "-R3Uki5hI_hP",
    "outputId": "2536ceaa-fcd0-4a26-df1b-94edb9091147"
   },
   "outputs": [
    {
     "data": {
      "text/plain": [
       "S    1185\n",
       "H     868\n",
       "T     808\n",
       "A     717\n",
       "E     588\n",
       "P     490\n",
       "D     410\n",
       "Name: EMOTIONS, dtype: int64"
      ]
     },
     "execution_count": 9,
     "metadata": {},
     "output_type": "execute_result"
    }
   ],
   "source": [
    "selected_dataset['EMOTIONS'].value_counts()"
   ]
  },
  {
   "cell_type": "code",
   "execution_count": 10,
   "metadata": {
    "colab": {
     "base_uri": "https://localhost:8080/"
    },
    "executionInfo": {
     "elapsed": 14,
     "status": "ok",
     "timestamp": 1675515971755,
     "user": {
      "displayName": "Talha Ubaid",
      "userId": "02581465239648343840"
     },
     "user_tz": -300
    },
    "id": "mIMwQ1jOI_hP",
    "outputId": "cb71e8a9-8457-46e9-edf5-bc2f56ef199b"
   },
   "outputs": [
    {
     "data": {
      "text/plain": [
       "(5066, 2)"
      ]
     },
     "execution_count": 10,
     "metadata": {},
     "output_type": "execute_result"
    }
   ],
   "source": [
    "selected_dataset.shape"
   ]
  },
  {
   "cell_type": "markdown",
   "metadata": {
    "id": "a6Nnry3DI_hQ"
   },
   "source": [
    "# Seperating the features from the dataset"
   ]
  },
  {
   "cell_type": "code",
   "execution_count": 11,
   "metadata": {
    "executionInfo": {
     "elapsed": 12,
     "status": "ok",
     "timestamp": 1675515971755,
     "user": {
      "displayName": "Talha Ubaid",
      "userId": "02581465239648343840"
     },
     "user_tz": -300
    },
    "id": "21sxw8G6I_hQ"
   },
   "outputs": [],
   "source": [
    "X = selected_dataset['TEXT'].values"
   ]
  },
  {
   "cell_type": "code",
   "execution_count": 12,
   "metadata": {
    "executionInfo": {
     "elapsed": 13,
     "status": "ok",
     "timestamp": 1675515971756,
     "user": {
      "displayName": "Talha Ubaid",
      "userId": "02581465239648343840"
     },
     "user_tz": -300
    },
    "id": "FZtjy97LI_hQ"
   },
   "outputs": [],
   "source": [
    "labels = selected_dataset['EMOTIONS'].values"
   ]
  },
  {
   "cell_type": "markdown",
   "metadata": {
    "id": "yAw03i2aI_hR"
   },
   "source": [
    "# Encoding the labels of the dataset into a numeric form"
   ]
  },
  {
   "cell_type": "code",
   "execution_count": 13,
   "metadata": {
    "executionInfo": {
     "elapsed": 13,
     "status": "ok",
     "timestamp": 1675515971756,
     "user": {
      "displayName": "Talha Ubaid",
      "userId": "02581465239648343840"
     },
     "user_tz": -300
    },
    "id": "UOBk7HVzI_hR"
   },
   "outputs": [],
   "source": [
    "from sklearn.preprocessing import LabelEncoder\n",
    "le = LabelEncoder()\n",
    "y = le.fit_transform(labels)"
   ]
  },
  {
   "cell_type": "code",
   "execution_count": 14,
   "metadata": {
    "colab": {
     "base_uri": "https://localhost:8080/"
    },
    "executionInfo": {
     "elapsed": 12,
     "status": "ok",
     "timestamp": 1675515971756,
     "user": {
      "displayName": "Talha Ubaid",
      "userId": "02581465239648343840"
     },
     "user_tz": -300
    },
    "id": "hYsdDLsdI_hR",
    "outputId": "a2fdf5d3-216e-4dcc-e675-de80834fa45d"
   },
   "outputs": [
    {
     "data": {
      "text/plain": [
       "array([0, 1, 2, 3, 4, 5, 6])"
      ]
     },
     "execution_count": 14,
     "metadata": {},
     "output_type": "execute_result"
    }
   ],
   "source": [
    "np.unique(y)"
   ]
  },
  {
   "cell_type": "markdown",
   "metadata": {
    "id": "R9PpIpReI_hR"
   },
   "source": [
    "# Creating and applying the cleaning function to clean the text of the while dataset"
   ]
  },
  {
   "cell_type": "code",
   "execution_count": 15,
   "metadata": {
    "executionInfo": {
     "elapsed": 10,
     "status": "ok",
     "timestamp": 1675515971756,
     "user": {
      "displayName": "Talha Ubaid",
      "userId": "02581465239648343840"
     },
     "user_tz": -300
    },
    "id": "pJ07qmUzI_hS"
   },
   "outputs": [],
   "source": [
    "stopwords_list = [\"اب\",\"ابھی\",\"اپنا\",\"اپنے\",\"اپنی\",\"اٹھا\",\"اس\",\"اسے\",\"اسی\",\"اگر\",\"ان\",\"انہوں\",\"انہی\",\"انہیں\",\"انھیں\",\"او\",\"اور\",\"اے\",\"ایسا\",\"ایسے\",\"ایسی\",\"ایک\",\"آ\",\"آتا\",\"آتے\",\"آتی\",\"آگے\",\"آنا\",\"آنے\",\"آنی\",\"آئے\",\"آئی\",\"آئیں\",\"آیا\",\"با\",\"بڑا\",\"بڑے\",\"بڑی\",\"بعد\",\"بعض\",\"بلکہ\",\"بہت\",\"بھی\",\"بے\",\"پاس\",\"پر\",\"پہلے\",\"پھر\",\"تا\",\"تاکہ\",\"تب\",\"تجھ\",\"تجھے\",\"تک\",\"تم\",\"تمام\",\"تمہارا\",\"تمہارے\",\"تمھارے\",\"تمہاری\",\"تمہیں\",\"تمھیں\",\"تھا\",\"تھے\",\"تھی\",\"تھیں\",\"تو\",\"تیری\",\"تیرے\",\"جا\",\"جاتا\",\"جاتی\",\"جاتے\",\"جاتی\",\"جانے\",\"جانی\",\"جاؤ\",\"جائے\",\"جائیں\",\"جب\",\"جس\",\"جن\",\"جنہوں\",\"جنہیں\",\"جو\",\"جیسا\",\"جیسے\",\"جیسی\",\"جیسوں\",\"چاہیئے\",\"چلا\",\"چاہے\",\"چونکہ\",\"حالاں\",\"حالانکہ\",\"دو\",\"دونوں\",\"دوں\",\"دے\",\"دی\",\"دیا\",\"دیں\",\"دیے\",\"دیتا\",\"دیتے\",\"دیتی\",\"دینا\",\"دینے\",\"دینی\",\"دیئے\",\"ڈالا\",\"ڈالنا\",\"ڈالنے\",\"ڈالنی\",\"ڈالے\",\"ڈالی\",\"ذرا\",\"رکھا\",\"رکھتا\",\"رکھتے\",\"رکھتی\",\"رکھنا\",\"رکھنے\",\"رکھنی\",\"رکھے\",\"رکھی\",\"رہ\",\"رہا\",\"رہتا\",\"رہتے\",\"رہتی\",\"رہنا\",\"رہنے\",\"رہنی\",\"رہو\",\"رہے\",\"رہی\",\"رہیں\",\"زیادہ\",\"سا\",\"سامنے\",\"سب\",\"سکتا\",\"سو\",\"سے\",\"سی\",\"شاید\",\"صرف\",\"طرح\",\"طرف\",\"عین\",\"کا\",\"کبھی\",\"کچھ\",\"کہہ\",\"کر\",\"کرتا\",\"کرتے\",\"کرتی\",\"کرنا\",\"کرنے\",\"کرو\",\"کروں\",\"کرے\",\"کریں\",\"کس\",\"کسے\",\"کسی\",\"کہ\",\"کہا\",\"کہے\",\"کو\",\"کون\",\"کوئی\",\"کے\",\"کی\",\"کیا\",\"کیسے\",\"کیوں\",\"کیونکہ\",\"کیے\",\"کئے\",\"گا\",\"گویا\",\"گے\",\"گی\",\"گیا\",\"گئے\",\"گئی\",\"لا\",\"لاتا\",\"لاتے\",\"ل\",\"اتی\",\"لانا\",\"لانے\",\"لانی\",\"لایا\",\"لائے\",\"لائی\",\"لگا\",\"لگے\",\"لگی\",\"لگیں\",\"لو\",\"لے\",\"لی\",\"لیا\",\"لیتا\",\"لیتے\",\"لیتی\",\"لیکن\",\"لیں\",\"لیے\",\"لئے\",\"مجھ\",\"مجھے\",\"مگر\",\"میرا\",\"میرے\",\"میری\",\"میں\",\"نا\",\"نہ\",\"نہایت\",\"نہیں\",\"نے\",\"ہاں\",\"ہر\",\"ہم\",\"ہمارا\",\"ہمارے\",\"ہماری\",\"ہو\",\"ہوا\",\"ہوتا\",\"ہوتے\",\"ہوتی\",\"ہوتیں\",\"ہوں\",\"ہونا\",\"ہونگے\",\"ہونے\",\"ہونی\",\"ہوئے\",\"ہوئی\",\"ہوئیں\",\"ہے\",\"ہی\",\"ہیں\",\"و\",\"والا\",\"والوں\",\"والے\",\"والی\",\"وہ\",\"وہاں\",\"وہی\",\"وہیں\",\"یا\",\"یعنی\",\"یہ\",\"یہاں\",\"یہی\",\"یہیں\"]"
   ]
  },
  {
   "cell_type": "code",
   "execution_count": 16,
   "metadata": {
    "executionInfo": {
     "elapsed": 11,
     "status": "ok",
     "timestamp": 1675515971757,
     "user": {
      "displayName": "Talha Ubaid",
      "userId": "02581465239648343840"
     },
     "user_tz": -300
    },
    "id": "PoJFMqk9I_hS"
   },
   "outputs": [],
   "source": [
    "def clean_text(text):\n",
    "    text = normalize_whitespace(text)\n",
    "    text = remove_punctuation(text)\n",
    "    text = remove_accents(text)\n",
    "    text = replace_urls(text)\n",
    "    text = replace_emails(text)\n",
    "    text = replace_currency_symbols(text)\n",
    "    text = normalize_characters(text)\n",
    "    text = normalize_combine_characters(text)\n",
    "    text = english_characters_space(text)\n",
    "    text = digits_space(text)\n",
    "    text = text.lower()\n",
    "    text = normalize(text)\n",
    "    words = text.split()\n",
    "    words = [word for word in words if not word in stopwords_list]\n",
    "    text = \" \".join(words)\n",
    "    return text"
   ]
  },
  {
   "cell_type": "code",
   "execution_count": 17,
   "metadata": {
    "executionInfo": {
     "elapsed": 11,
     "status": "ok",
     "timestamp": 1675515971757,
     "user": {
      "displayName": "Talha Ubaid",
      "userId": "02581465239648343840"
     },
     "user_tz": -300
    },
    "id": "V52wwk1bI_hS"
   },
   "outputs": [],
   "source": [
    "X = map(clean_text, X)"
   ]
  },
  {
   "cell_type": "code",
   "execution_count": 18,
   "metadata": {
    "executionInfo": {
     "elapsed": 1395,
     "status": "ok",
     "timestamp": 1675515973142,
     "user": {
      "displayName": "Talha Ubaid",
      "userId": "02581465239648343840"
     },
     "user_tz": -300
    },
    "id": "YSOvE1wyI_hS",
    "tags": []
   },
   "outputs": [],
   "source": [
    "X = list(X)"
   ]
  },
  {
   "cell_type": "code",
   "execution_count": 19,
   "metadata": {
    "colab": {
     "base_uri": "https://localhost:8080/"
    },
    "executionInfo": {
     "elapsed": 6,
     "status": "ok",
     "timestamp": 1675515973142,
     "user": {
      "displayName": "Talha Ubaid",
      "userId": "02581465239648343840"
     },
     "user_tz": -300
    },
    "id": "kPMO8fZbI_hT",
    "outputId": "9863c2bb-07ae-4585-d78f-f97a2d1c132f"
   },
   "outputs": [
    {
     "data": {
      "text/plain": [
       "(5066,)"
      ]
     },
     "execution_count": 19,
     "metadata": {},
     "output_type": "execute_result"
    }
   ],
   "source": [
    "np.shape(X)"
   ]
  },
  {
   "cell_type": "code",
   "execution_count": 20,
   "metadata": {
    "colab": {
     "base_uri": "https://localhost:8080/"
    },
    "executionInfo": {
     "elapsed": 6,
     "status": "ok",
     "timestamp": 1675515973143,
     "user": {
      "displayName": "Talha Ubaid",
      "userId": "02581465239648343840"
     },
     "user_tz": -300
    },
    "id": "D3X7liQuI_hT",
    "outputId": "729e76f7-d348-4cc9-d37f-b77abd8f83d1",
    "scrolled": true,
    "tags": []
   },
   "outputs": [
    {
     "data": {
      "text/plain": [
       "['آسان کام ہوگا لوگوں کھٹکایا ذمہ داری پانی جمع 1520 دن مون سون شروع خوب بارشیں سال سیلاب آجاتا پانی بچا پاتے عوام کام ٹیکس',\n",
       " 'mehfi خطا کار درجہ نوازش کرم۰۰ کرم۰۰ کرم',\n",
       " 'کیلیفورنیا جاپانی کمپنی الہ تیار پیٹ حرکات نظر 10 منٹ قبل اگاہ اپ بیت الخلا جاناچاہیے',\n",
       " 'مسلمان قرآن مطابق کردار سازی کم از کم کوشش دوسری قومیں خود ڈر جائینگیاگر مسلمانوں دل سچا ایمان اللہ باطل دل خوف بھر ہےجو نبی عاشق پہلا کام خود بدلیں انکے عمل قرآن دکھائی',\n",
       " 'کہیں ہندو تورے جہازوں پے اولے پڑیں جسے کہتے فرنگی توپوں کیڑے پڑیں',\n",
       " 'معروف سوشل میڈیا ایکٹوسٹ جناب آفتاب نزیر صاحب اہل تشیع جانب مسلسل دھمکیاں سوشل میڈیا متحرک احباب آفتاب بھاٸی آواز اٹھائیں سنیوں بلال خان مرد قلندر رافضیت ناک دم قدر شخص صحابہ سچا پہردار',\n",
       " 'جانشین حضور شیخ العالم رحمۃ اللہ علیہ رومئ دوراں آبشار علم عرفان نقیب عشق مصطفی چشم چراغ نیروی مظہر فیضان جلال الدین رومی رضی اللہ عنہ حضرت خواجہ پیر محمد نور العارفین صاحب صدیقی غزنوی سجادہ نشین آستانہ عالیہ نیریاں شریف',\n",
       " 'دیکھ شام حال شام تباہی مچانے کفریہ میڈیا دہشت گرد',\n",
       " 'ڈٹ محاز اکثر لوگ احتجاج کال نہی احتجاج ہوگا غریب کارکنوں خون بہے شکست نکے ابے حکمت عملی بےنقاب ہوچکا پاکستانی پتہ چل رہاہے اصل حکومت',\n",
       " 'لعنتیں مذمتی قراردادوں جمہوریت خدمت گیغیر اخلاقی دیوالیہ پن اسکی جڑوں کھوکھلہ ضرور ہےعوامی امنگوں حقیقی ترجمانی حکمرانوں جمہوری رویے عوام ایوانوں درمیان فاصلوں کم ہےاور اسکی توقیر بڑھا']"
      ]
     },
     "execution_count": 20,
     "metadata": {},
     "output_type": "execute_result"
    }
   ],
   "source": [
    "X[:10]"
   ]
  },
  {
   "cell_type": "markdown",
   "metadata": {
    "id": "ahWAoBczI_hT"
   },
   "source": [
    "# Vectorizing the dataset "
   ]
  },
  {
   "cell_type": "code",
   "execution_count": 21,
   "metadata": {
    "executionInfo": {
     "elapsed": 3,
     "status": "ok",
     "timestamp": 1675515973143,
     "user": {
      "displayName": "Talha Ubaid",
      "userId": "02581465239648343840"
     },
     "user_tz": -300
    },
    "id": "pCLuHbIrI_hT"
   },
   "outputs": [],
   "source": [
    "vectorizer = TfidfVectorizer()\n",
    "X = vectorizer.fit_transform(X)\n",
    "\n",
    "import pickle\n",
    "\n",
    "filename = 'Vectorizer.sav'\n",
    "pickle.dump(vectorizer, open(filename, 'wb'))"
   ]
  },
  {
   "cell_type": "markdown",
   "metadata": {
    "id": "uQJ_NLvcI_hU"
   },
   "source": [
    "# Balancing the dataset"
   ]
  },
  {
   "cell_type": "code",
   "execution_count": 22,
   "metadata": {
    "executionInfo": {
     "elapsed": 587,
     "status": "ok",
     "timestamp": 1675515973727,
     "user": {
      "displayName": "Talha Ubaid",
      "userId": "02581465239648343840"
     },
     "user_tz": -300
    },
    "id": "IomJw57EI_hU"
   },
   "outputs": [],
   "source": [
    "from imblearn.over_sampling import SMOTE\n",
    "\n",
    "oversample = SMOTE()\n",
    "X, y = oversample.fit_resample(X, y)"
   ]
  },
  {
   "cell_type": "code",
   "execution_count": 23,
   "metadata": {
    "colab": {
     "base_uri": "https://localhost:8080/"
    },
    "executionInfo": {
     "elapsed": 8,
     "status": "ok",
     "timestamp": 1675515973728,
     "user": {
      "displayName": "Talha Ubaid",
      "userId": "02581465239648343840"
     },
     "user_tz": -300
    },
    "id": "zkr6mXyiI_hU",
    "outputId": "1b23dac6-db6a-4205-be08-dc344ef537d3"
   },
   "outputs": [
    {
     "name": "stdout",
     "output_type": "stream",
     "text": [
      "Counter({3: 1185, 5: 1185, 0: 1185, 1: 1185, 4: 1185, 6: 1185, 2: 1185})\n"
     ]
    }
   ],
   "source": [
    "from collections import Counter\n",
    "counter = Counter(y)\n",
    "print(counter)"
   ]
  },
  {
   "cell_type": "markdown",
   "metadata": {
    "id": "wOrozIwGI_hU"
   },
   "source": [
    "# Splitting the dataset for train and testing it"
   ]
  },
  {
   "cell_type": "code",
   "execution_count": 24,
   "metadata": {
    "executionInfo": {
     "elapsed": 7,
     "status": "ok",
     "timestamp": 1675515973728,
     "user": {
      "displayName": "Talha Ubaid",
      "userId": "02581465239648343840"
     },
     "user_tz": -300
    },
    "id": "a0ZesUt2I_hU"
   },
   "outputs": [],
   "source": [
    "from sklearn.model_selection import train_test_split\n",
    "X_train, X_test, y_train, y_test = train_test_split(X, y)"
   ]
  },
  {
   "cell_type": "code",
   "execution_count": 25,
   "metadata": {
    "colab": {
     "base_uri": "https://localhost:8080/"
    },
    "executionInfo": {
     "elapsed": 6,
     "status": "ok",
     "timestamp": 1675515973728,
     "user": {
      "displayName": "Talha Ubaid",
      "userId": "02581465239648343840"
     },
     "user_tz": -300
    },
    "id": "D5b2mUMuI_hV",
    "outputId": "61fefdca-2cd6-4901-c76d-964477b33c16"
   },
   "outputs": [
    {
     "data": {
      "text/plain": [
       "<6221x17888 sparse matrix of type '<class 'numpy.float64'>'\n",
       "\twith 116320 stored elements in Compressed Sparse Row format>"
      ]
     },
     "execution_count": 25,
     "metadata": {},
     "output_type": "execute_result"
    }
   ],
   "source": [
    "X_train"
   ]
  },
  {
   "cell_type": "markdown",
   "metadata": {
    "id": "Z7JXHy93I_hV"
   },
   "source": [
    "# Applying the random forest Classifier"
   ]
  },
  {
   "cell_type": "code",
   "execution_count": 26,
   "metadata": {
    "executionInfo": {
     "elapsed": 2,
     "status": "ok",
     "timestamp": 1675515974210,
     "user": {
      "displayName": "Talha Ubaid",
      "userId": "02581465239648343840"
     },
     "user_tz": -300
    },
    "id": "W_PxHRmrI_hV"
   },
   "outputs": [],
   "source": [
    "from sklearn.ensemble import RandomForestClassifier\n",
    "rfc = RandomForestClassifier()"
   ]
  },
  {
   "cell_type": "code",
   "execution_count": 27,
   "metadata": {
    "colab": {
     "base_uri": "https://localhost:8080/"
    },
    "executionInfo": {
     "elapsed": 25328,
     "status": "ok",
     "timestamp": 1675516000578,
     "user": {
      "displayName": "Talha Ubaid",
      "userId": "02581465239648343840"
     },
     "user_tz": -300
    },
    "id": "89uyW_lSI_hV",
    "outputId": "c00de02f-3bb2-40e2-cdba-98889ad11622"
   },
   "outputs": [
    {
     "data": {
      "text/html": [
       "<style>#sk-container-id-1 {color: black;background-color: white;}#sk-container-id-1 pre{padding: 0;}#sk-container-id-1 div.sk-toggleable {background-color: white;}#sk-container-id-1 label.sk-toggleable__label {cursor: pointer;display: block;width: 100%;margin-bottom: 0;padding: 0.3em;box-sizing: border-box;text-align: center;}#sk-container-id-1 label.sk-toggleable__label-arrow:before {content: \"▸\";float: left;margin-right: 0.25em;color: #696969;}#sk-container-id-1 label.sk-toggleable__label-arrow:hover:before {color: black;}#sk-container-id-1 div.sk-estimator:hover label.sk-toggleable__label-arrow:before {color: black;}#sk-container-id-1 div.sk-toggleable__content {max-height: 0;max-width: 0;overflow: hidden;text-align: left;background-color: #f0f8ff;}#sk-container-id-1 div.sk-toggleable__content pre {margin: 0.2em;color: black;border-radius: 0.25em;background-color: #f0f8ff;}#sk-container-id-1 input.sk-toggleable__control:checked~div.sk-toggleable__content {max-height: 200px;max-width: 100%;overflow: auto;}#sk-container-id-1 input.sk-toggleable__control:checked~label.sk-toggleable__label-arrow:before {content: \"▾\";}#sk-container-id-1 div.sk-estimator input.sk-toggleable__control:checked~label.sk-toggleable__label {background-color: #d4ebff;}#sk-container-id-1 div.sk-label input.sk-toggleable__control:checked~label.sk-toggleable__label {background-color: #d4ebff;}#sk-container-id-1 input.sk-hidden--visually {border: 0;clip: rect(1px 1px 1px 1px);clip: rect(1px, 1px, 1px, 1px);height: 1px;margin: -1px;overflow: hidden;padding: 0;position: absolute;width: 1px;}#sk-container-id-1 div.sk-estimator {font-family: monospace;background-color: #f0f8ff;border: 1px dotted black;border-radius: 0.25em;box-sizing: border-box;margin-bottom: 0.5em;}#sk-container-id-1 div.sk-estimator:hover {background-color: #d4ebff;}#sk-container-id-1 div.sk-parallel-item::after {content: \"\";width: 100%;border-bottom: 1px solid gray;flex-grow: 1;}#sk-container-id-1 div.sk-label:hover label.sk-toggleable__label {background-color: #d4ebff;}#sk-container-id-1 div.sk-serial::before {content: \"\";position: absolute;border-left: 1px solid gray;box-sizing: border-box;top: 0;bottom: 0;left: 50%;z-index: 0;}#sk-container-id-1 div.sk-serial {display: flex;flex-direction: column;align-items: center;background-color: white;padding-right: 0.2em;padding-left: 0.2em;position: relative;}#sk-container-id-1 div.sk-item {position: relative;z-index: 1;}#sk-container-id-1 div.sk-parallel {display: flex;align-items: stretch;justify-content: center;background-color: white;position: relative;}#sk-container-id-1 div.sk-item::before, #sk-container-id-1 div.sk-parallel-item::before {content: \"\";position: absolute;border-left: 1px solid gray;box-sizing: border-box;top: 0;bottom: 0;left: 50%;z-index: -1;}#sk-container-id-1 div.sk-parallel-item {display: flex;flex-direction: column;z-index: 1;position: relative;background-color: white;}#sk-container-id-1 div.sk-parallel-item:first-child::after {align-self: flex-end;width: 50%;}#sk-container-id-1 div.sk-parallel-item:last-child::after {align-self: flex-start;width: 50%;}#sk-container-id-1 div.sk-parallel-item:only-child::after {width: 0;}#sk-container-id-1 div.sk-dashed-wrapped {border: 1px dashed gray;margin: 0 0.4em 0.5em 0.4em;box-sizing: border-box;padding-bottom: 0.4em;background-color: white;}#sk-container-id-1 div.sk-label label {font-family: monospace;font-weight: bold;display: inline-block;line-height: 1.2em;}#sk-container-id-1 div.sk-label-container {text-align: center;}#sk-container-id-1 div.sk-container {/* jupyter's `normalize.less` sets `[hidden] { display: none; }` but bootstrap.min.css set `[hidden] { display: none !important; }` so we also need the `!important` here to be able to override the default hidden behavior on the sphinx rendered scikit-learn.org. See: https://github.com/scikit-learn/scikit-learn/issues/21755 */display: inline-block !important;position: relative;}#sk-container-id-1 div.sk-text-repr-fallback {display: none;}</style><div id=\"sk-container-id-1\" class=\"sk-top-container\"><div class=\"sk-text-repr-fallback\"><pre>RandomForestClassifier()</pre><b>In a Jupyter environment, please rerun this cell to show the HTML representation or trust the notebook. <br />On GitHub, the HTML representation is unable to render, please try loading this page with nbviewer.org.</b></div><div class=\"sk-container\" hidden><div class=\"sk-item\"><div class=\"sk-estimator sk-toggleable\"><input class=\"sk-toggleable__control sk-hidden--visually\" id=\"sk-estimator-id-1\" type=\"checkbox\" checked><label for=\"sk-estimator-id-1\" class=\"sk-toggleable__label sk-toggleable__label-arrow\">RandomForestClassifier</label><div class=\"sk-toggleable__content\"><pre>RandomForestClassifier()</pre></div></div></div></div></div>"
      ],
      "text/plain": [
       "RandomForestClassifier()"
      ]
     },
     "execution_count": 27,
     "metadata": {},
     "output_type": "execute_result"
    }
   ],
   "source": [
    "rfc.fit(X_train, y_train)"
   ]
  },
  {
   "cell_type": "code",
   "execution_count": 28,
   "metadata": {
    "executionInfo": {
     "elapsed": 665,
     "status": "ok",
     "timestamp": 1675516010019,
     "user": {
      "displayName": "Talha Ubaid",
      "userId": "02581465239648343840"
     },
     "user_tz": -300
    },
    "id": "xfGzaof4I_hV"
   },
   "outputs": [],
   "source": [
    "y_pred = rfc.predict(X_test)"
   ]
  },
  {
   "cell_type": "code",
   "execution_count": 29,
   "metadata": {
    "executionInfo": {
     "elapsed": 3,
     "status": "ok",
     "timestamp": 1675516010695,
     "user": {
      "displayName": "Talha Ubaid",
      "userId": "02581465239648343840"
     },
     "user_tz": -300
    },
    "id": "om1pxJLlI_hW"
   },
   "outputs": [],
   "source": [
    "rf_acc=accuracy_score(y_test,y_pred)"
   ]
  },
  {
   "cell_type": "code",
   "execution_count": 30,
   "metadata": {
    "colab": {
     "base_uri": "https://localhost:8080/"
    },
    "executionInfo": {
     "elapsed": 2,
     "status": "ok",
     "timestamp": 1675516010695,
     "user": {
      "displayName": "Talha Ubaid",
      "userId": "02581465239648343840"
     },
     "user_tz": -300
    },
    "id": "L-D9EFW7Oo_6",
    "outputId": "4add8a99-920a-403d-9aad-f862d8e5587c"
   },
   "outputs": [
    {
     "data": {
      "text/plain": [
       "0.6702025072324012"
      ]
     },
     "execution_count": 30,
     "metadata": {},
     "output_type": "execute_result"
    }
   ],
   "source": [
    "rf_acc"
   ]
  },
  {
   "cell_type": "code",
   "execution_count": 31,
   "metadata": {
    "colab": {
     "base_uri": "https://localhost:8080/"
    },
    "executionInfo": {
     "elapsed": 2,
     "status": "ok",
     "timestamp": 1675516011303,
     "user": {
      "displayName": "Talha Ubaid",
      "userId": "02581465239648343840"
     },
     "user_tz": -300
    },
    "id": "IJZ-mvDwI_hW",
    "outputId": "e7a93bd2-6d6a-4371-98db-a67010c9fd69"
   },
   "outputs": [
    {
     "name": "stdout",
     "output_type": "stream",
     "text": [
      "[6 3 5 6 4 1 6 2 0 5 2 5 6 5 4 6 4 6 1 6]\n",
      "[6 3 5 5 4 1 0 1 2 5 2 3 6 5 4 1 4 5 1 5]\n"
     ]
    }
   ],
   "source": [
    "print(y_pred[:20])\n",
    "print(y_test[:20])"
   ]
  },
  {
   "cell_type": "markdown",
   "metadata": {
    "id": "2ypGceqOPitf"
   },
   "source": [
    "### Saving Model"
   ]
  },
  {
   "cell_type": "code",
   "execution_count": 32,
   "metadata": {
    "executionInfo": {
     "elapsed": 1180,
     "status": "ok",
     "timestamp": 1675516013669,
     "user": {
      "displayName": "Talha Ubaid",
      "userId": "02581465239648343840"
     },
     "user_tz": -300
    },
    "id": "iXAOGQ9fOaIJ"
   },
   "outputs": [],
   "source": [
    "import pickle\n",
    "\n",
    "filename = str(round(rf_acc,3))+'_RF_Model.sav'\n",
    "pickle.dump(rfc, open(\"models/\"+filename, 'wb'))"
   ]
  },
  {
   "cell_type": "markdown",
   "metadata": {
    "id": "e306W0lhI_hW"
   },
   "source": [
    "# Applying the SVC Classifier"
   ]
  },
  {
   "cell_type": "code",
   "execution_count": 33,
   "metadata": {
    "colab": {
     "base_uri": "https://localhost:8080/"
    },
    "executionInfo": {
     "elapsed": 13428,
     "status": "ok",
     "timestamp": 1675516027096,
     "user": {
      "displayName": "Talha Ubaid",
      "userId": "02581465239648343840"
     },
     "user_tz": -300
    },
    "id": "WbhzmSWbI_hW",
    "outputId": "4e2e5fca-1b18-491e-9d25-6b5e6e81330c"
   },
   "outputs": [
    {
     "data": {
      "text/html": [
       "<style>#sk-container-id-2 {color: black;background-color: white;}#sk-container-id-2 pre{padding: 0;}#sk-container-id-2 div.sk-toggleable {background-color: white;}#sk-container-id-2 label.sk-toggleable__label {cursor: pointer;display: block;width: 100%;margin-bottom: 0;padding: 0.3em;box-sizing: border-box;text-align: center;}#sk-container-id-2 label.sk-toggleable__label-arrow:before {content: \"▸\";float: left;margin-right: 0.25em;color: #696969;}#sk-container-id-2 label.sk-toggleable__label-arrow:hover:before {color: black;}#sk-container-id-2 div.sk-estimator:hover label.sk-toggleable__label-arrow:before {color: black;}#sk-container-id-2 div.sk-toggleable__content {max-height: 0;max-width: 0;overflow: hidden;text-align: left;background-color: #f0f8ff;}#sk-container-id-2 div.sk-toggleable__content pre {margin: 0.2em;color: black;border-radius: 0.25em;background-color: #f0f8ff;}#sk-container-id-2 input.sk-toggleable__control:checked~div.sk-toggleable__content {max-height: 200px;max-width: 100%;overflow: auto;}#sk-container-id-2 input.sk-toggleable__control:checked~label.sk-toggleable__label-arrow:before {content: \"▾\";}#sk-container-id-2 div.sk-estimator input.sk-toggleable__control:checked~label.sk-toggleable__label {background-color: #d4ebff;}#sk-container-id-2 div.sk-label input.sk-toggleable__control:checked~label.sk-toggleable__label {background-color: #d4ebff;}#sk-container-id-2 input.sk-hidden--visually {border: 0;clip: rect(1px 1px 1px 1px);clip: rect(1px, 1px, 1px, 1px);height: 1px;margin: -1px;overflow: hidden;padding: 0;position: absolute;width: 1px;}#sk-container-id-2 div.sk-estimator {font-family: monospace;background-color: #f0f8ff;border: 1px dotted black;border-radius: 0.25em;box-sizing: border-box;margin-bottom: 0.5em;}#sk-container-id-2 div.sk-estimator:hover {background-color: #d4ebff;}#sk-container-id-2 div.sk-parallel-item::after {content: \"\";width: 100%;border-bottom: 1px solid gray;flex-grow: 1;}#sk-container-id-2 div.sk-label:hover label.sk-toggleable__label {background-color: #d4ebff;}#sk-container-id-2 div.sk-serial::before {content: \"\";position: absolute;border-left: 1px solid gray;box-sizing: border-box;top: 0;bottom: 0;left: 50%;z-index: 0;}#sk-container-id-2 div.sk-serial {display: flex;flex-direction: column;align-items: center;background-color: white;padding-right: 0.2em;padding-left: 0.2em;position: relative;}#sk-container-id-2 div.sk-item {position: relative;z-index: 1;}#sk-container-id-2 div.sk-parallel {display: flex;align-items: stretch;justify-content: center;background-color: white;position: relative;}#sk-container-id-2 div.sk-item::before, #sk-container-id-2 div.sk-parallel-item::before {content: \"\";position: absolute;border-left: 1px solid gray;box-sizing: border-box;top: 0;bottom: 0;left: 50%;z-index: -1;}#sk-container-id-2 div.sk-parallel-item {display: flex;flex-direction: column;z-index: 1;position: relative;background-color: white;}#sk-container-id-2 div.sk-parallel-item:first-child::after {align-self: flex-end;width: 50%;}#sk-container-id-2 div.sk-parallel-item:last-child::after {align-self: flex-start;width: 50%;}#sk-container-id-2 div.sk-parallel-item:only-child::after {width: 0;}#sk-container-id-2 div.sk-dashed-wrapped {border: 1px dashed gray;margin: 0 0.4em 0.5em 0.4em;box-sizing: border-box;padding-bottom: 0.4em;background-color: white;}#sk-container-id-2 div.sk-label label {font-family: monospace;font-weight: bold;display: inline-block;line-height: 1.2em;}#sk-container-id-2 div.sk-label-container {text-align: center;}#sk-container-id-2 div.sk-container {/* jupyter's `normalize.less` sets `[hidden] { display: none; }` but bootstrap.min.css set `[hidden] { display: none !important; }` so we also need the `!important` here to be able to override the default hidden behavior on the sphinx rendered scikit-learn.org. See: https://github.com/scikit-learn/scikit-learn/issues/21755 */display: inline-block !important;position: relative;}#sk-container-id-2 div.sk-text-repr-fallback {display: none;}</style><div id=\"sk-container-id-2\" class=\"sk-top-container\"><div class=\"sk-text-repr-fallback\"><pre>SVC()</pre><b>In a Jupyter environment, please rerun this cell to show the HTML representation or trust the notebook. <br />On GitHub, the HTML representation is unable to render, please try loading this page with nbviewer.org.</b></div><div class=\"sk-container\" hidden><div class=\"sk-item\"><div class=\"sk-estimator sk-toggleable\"><input class=\"sk-toggleable__control sk-hidden--visually\" id=\"sk-estimator-id-2\" type=\"checkbox\" checked><label for=\"sk-estimator-id-2\" class=\"sk-toggleable__label sk-toggleable__label-arrow\">SVC</label><div class=\"sk-toggleable__content\"><pre>SVC()</pre></div></div></div></div></div>"
      ],
      "text/plain": [
       "SVC()"
      ]
     },
     "execution_count": 33,
     "metadata": {},
     "output_type": "execute_result"
    }
   ],
   "source": [
    "from sklearn.svm import SVC\n",
    "svc = SVC()\n",
    "svc.fit(X_train, y_train)"
   ]
  },
  {
   "cell_type": "code",
   "execution_count": 34,
   "metadata": {
    "executionInfo": {
     "elapsed": 2466,
     "status": "ok",
     "timestamp": 1675516029551,
     "user": {
      "displayName": "Talha Ubaid",
      "userId": "02581465239648343840"
     },
     "user_tz": -300
    },
    "id": "5EgFgOabI_hW"
   },
   "outputs": [],
   "source": [
    "y_pred = svc.predict(X_test)"
   ]
  },
  {
   "cell_type": "code",
   "execution_count": 35,
   "metadata": {
    "executionInfo": {
     "elapsed": 18,
     "status": "ok",
     "timestamp": 1675516029551,
     "user": {
      "displayName": "Talha Ubaid",
      "userId": "02581465239648343840"
     },
     "user_tz": -300
    },
    "id": "JGEW9BRJI_hW"
   },
   "outputs": [],
   "source": [
    "svc_acc=accuracy_score(y_test,y_pred)"
   ]
  },
  {
   "cell_type": "code",
   "execution_count": 36,
   "metadata": {
    "colab": {
     "base_uri": "https://localhost:8080/"
    },
    "executionInfo": {
     "elapsed": 19,
     "status": "ok",
     "timestamp": 1675516029552,
     "user": {
      "displayName": "Talha Ubaid",
      "userId": "02581465239648343840"
     },
     "user_tz": -300
    },
    "id": "8hYfWYDQQ-pY",
    "outputId": "8ecf435f-1de2-4854-ffca-7f5dd100b7c2"
   },
   "outputs": [
    {
     "data": {
      "text/plain": [
       "0.662970106075217"
      ]
     },
     "execution_count": 36,
     "metadata": {},
     "output_type": "execute_result"
    }
   ],
   "source": [
    "svc_acc"
   ]
  },
  {
   "cell_type": "code",
   "execution_count": 37,
   "metadata": {
    "colab": {
     "base_uri": "https://localhost:8080/"
    },
    "executionInfo": {
     "elapsed": 18,
     "status": "ok",
     "timestamp": 1675516029553,
     "user": {
      "displayName": "Talha Ubaid",
      "userId": "02581465239648343840"
     },
     "user_tz": -300
    },
    "id": "pfPMb0BfS3zL",
    "outputId": "f2937087-4474-4681-8416-591f4cd36344"
   },
   "outputs": [
    {
     "name": "stdout",
     "output_type": "stream",
     "text": [
      "[6 3 5 5 4 1 5 1 0 5 5 5 5 5 4 1 1 5 1 6]\n",
      "[6 3 5 5 4 1 0 1 2 5 2 3 6 5 4 1 4 5 1 5]\n"
     ]
    }
   ],
   "source": [
    "print(y_pred[:20])\n",
    "print(y_test[:20])"
   ]
  },
  {
   "cell_type": "markdown",
   "metadata": {
    "id": "F79YqEJvTAtB"
   },
   "source": [
    "### saving model"
   ]
  },
  {
   "cell_type": "code",
   "execution_count": 38,
   "metadata": {
    "executionInfo": {
     "elapsed": 15,
     "status": "ok",
     "timestamp": 1675516029553,
     "user": {
      "displayName": "Talha Ubaid",
      "userId": "02581465239648343840"
     },
     "user_tz": -300
    },
    "id": "CS9LGN7oI_hX"
   },
   "outputs": [],
   "source": [
    "import pickle\n",
    "\n",
    "filename = str(round(svc_acc,3))+'_SVC_Model.sav'\n",
    "pickle.dump(svc, open(\"models/\"+filename, 'wb'))"
   ]
  },
  {
   "cell_type": "markdown",
   "metadata": {
    "id": "r-XAbsvTI_hX"
   },
   "source": [
    "# Applying the Sticastic Gradient Descent Classifier"
   ]
  },
  {
   "cell_type": "code",
   "execution_count": 39,
   "metadata": {
    "colab": {
     "base_uri": "https://localhost:8080/"
    },
    "executionInfo": {
     "elapsed": 16,
     "status": "ok",
     "timestamp": 1675516029554,
     "user": {
      "displayName": "Talha Ubaid",
      "userId": "02581465239648343840"
     },
     "user_tz": -300
    },
    "id": "sQaoNwSHI_hX",
    "outputId": "26ddce7c-4a96-446e-e5a1-8ff24d38de47"
   },
   "outputs": [
    {
     "data": {
      "text/html": [
       "<style>#sk-container-id-3 {color: black;background-color: white;}#sk-container-id-3 pre{padding: 0;}#sk-container-id-3 div.sk-toggleable {background-color: white;}#sk-container-id-3 label.sk-toggleable__label {cursor: pointer;display: block;width: 100%;margin-bottom: 0;padding: 0.3em;box-sizing: border-box;text-align: center;}#sk-container-id-3 label.sk-toggleable__label-arrow:before {content: \"▸\";float: left;margin-right: 0.25em;color: #696969;}#sk-container-id-3 label.sk-toggleable__label-arrow:hover:before {color: black;}#sk-container-id-3 div.sk-estimator:hover label.sk-toggleable__label-arrow:before {color: black;}#sk-container-id-3 div.sk-toggleable__content {max-height: 0;max-width: 0;overflow: hidden;text-align: left;background-color: #f0f8ff;}#sk-container-id-3 div.sk-toggleable__content pre {margin: 0.2em;color: black;border-radius: 0.25em;background-color: #f0f8ff;}#sk-container-id-3 input.sk-toggleable__control:checked~div.sk-toggleable__content {max-height: 200px;max-width: 100%;overflow: auto;}#sk-container-id-3 input.sk-toggleable__control:checked~label.sk-toggleable__label-arrow:before {content: \"▾\";}#sk-container-id-3 div.sk-estimator input.sk-toggleable__control:checked~label.sk-toggleable__label {background-color: #d4ebff;}#sk-container-id-3 div.sk-label input.sk-toggleable__control:checked~label.sk-toggleable__label {background-color: #d4ebff;}#sk-container-id-3 input.sk-hidden--visually {border: 0;clip: rect(1px 1px 1px 1px);clip: rect(1px, 1px, 1px, 1px);height: 1px;margin: -1px;overflow: hidden;padding: 0;position: absolute;width: 1px;}#sk-container-id-3 div.sk-estimator {font-family: monospace;background-color: #f0f8ff;border: 1px dotted black;border-radius: 0.25em;box-sizing: border-box;margin-bottom: 0.5em;}#sk-container-id-3 div.sk-estimator:hover {background-color: #d4ebff;}#sk-container-id-3 div.sk-parallel-item::after {content: \"\";width: 100%;border-bottom: 1px solid gray;flex-grow: 1;}#sk-container-id-3 div.sk-label:hover label.sk-toggleable__label {background-color: #d4ebff;}#sk-container-id-3 div.sk-serial::before {content: \"\";position: absolute;border-left: 1px solid gray;box-sizing: border-box;top: 0;bottom: 0;left: 50%;z-index: 0;}#sk-container-id-3 div.sk-serial {display: flex;flex-direction: column;align-items: center;background-color: white;padding-right: 0.2em;padding-left: 0.2em;position: relative;}#sk-container-id-3 div.sk-item {position: relative;z-index: 1;}#sk-container-id-3 div.sk-parallel {display: flex;align-items: stretch;justify-content: center;background-color: white;position: relative;}#sk-container-id-3 div.sk-item::before, #sk-container-id-3 div.sk-parallel-item::before {content: \"\";position: absolute;border-left: 1px solid gray;box-sizing: border-box;top: 0;bottom: 0;left: 50%;z-index: -1;}#sk-container-id-3 div.sk-parallel-item {display: flex;flex-direction: column;z-index: 1;position: relative;background-color: white;}#sk-container-id-3 div.sk-parallel-item:first-child::after {align-self: flex-end;width: 50%;}#sk-container-id-3 div.sk-parallel-item:last-child::after {align-self: flex-start;width: 50%;}#sk-container-id-3 div.sk-parallel-item:only-child::after {width: 0;}#sk-container-id-3 div.sk-dashed-wrapped {border: 1px dashed gray;margin: 0 0.4em 0.5em 0.4em;box-sizing: border-box;padding-bottom: 0.4em;background-color: white;}#sk-container-id-3 div.sk-label label {font-family: monospace;font-weight: bold;display: inline-block;line-height: 1.2em;}#sk-container-id-3 div.sk-label-container {text-align: center;}#sk-container-id-3 div.sk-container {/* jupyter's `normalize.less` sets `[hidden] { display: none; }` but bootstrap.min.css set `[hidden] { display: none !important; }` so we also need the `!important` here to be able to override the default hidden behavior on the sphinx rendered scikit-learn.org. See: https://github.com/scikit-learn/scikit-learn/issues/21755 */display: inline-block !important;position: relative;}#sk-container-id-3 div.sk-text-repr-fallback {display: none;}</style><div id=\"sk-container-id-3\" class=\"sk-top-container\"><div class=\"sk-text-repr-fallback\"><pre>SGDClassifier()</pre><b>In a Jupyter environment, please rerun this cell to show the HTML representation or trust the notebook. <br />On GitHub, the HTML representation is unable to render, please try loading this page with nbviewer.org.</b></div><div class=\"sk-container\" hidden><div class=\"sk-item\"><div class=\"sk-estimator sk-toggleable\"><input class=\"sk-toggleable__control sk-hidden--visually\" id=\"sk-estimator-id-3\" type=\"checkbox\" checked><label for=\"sk-estimator-id-3\" class=\"sk-toggleable__label sk-toggleable__label-arrow\">SGDClassifier</label><div class=\"sk-toggleable__content\"><pre>SGDClassifier()</pre></div></div></div></div></div>"
      ],
      "text/plain": [
       "SGDClassifier()"
      ]
     },
     "execution_count": 39,
     "metadata": {},
     "output_type": "execute_result"
    }
   ],
   "source": [
    "from sklearn.linear_model import SGDClassifier\n",
    "sgd = SGDClassifier()\n",
    "sgd.fit(X_train, y_train)"
   ]
  },
  {
   "cell_type": "code",
   "execution_count": 40,
   "metadata": {
    "executionInfo": {
     "elapsed": 14,
     "status": "ok",
     "timestamp": 1675516029554,
     "user": {
      "displayName": "Talha Ubaid",
      "userId": "02581465239648343840"
     },
     "user_tz": -300
    },
    "id": "ig31EzL0I_hX"
   },
   "outputs": [],
   "source": [
    "y_pred = sgd.predict(X_test)"
   ]
  },
  {
   "cell_type": "code",
   "execution_count": 41,
   "metadata": {
    "executionInfo": {
     "elapsed": 14,
     "status": "ok",
     "timestamp": 1675516029555,
     "user": {
      "displayName": "Talha Ubaid",
      "userId": "02581465239648343840"
     },
     "user_tz": -300
    },
    "id": "lm_2vY9jI_hX"
   },
   "outputs": [],
   "source": [
    "sdg_acc=accuracy_score(y_test,y_pred)"
   ]
  },
  {
   "cell_type": "code",
   "execution_count": 42,
   "metadata": {
    "colab": {
     "base_uri": "https://localhost:8080/"
    },
    "executionInfo": {
     "elapsed": 14,
     "status": "ok",
     "timestamp": 1675516029555,
     "user": {
      "displayName": "Talha Ubaid",
      "userId": "02581465239648343840"
     },
     "user_tz": -300
    },
    "id": "rgMyS0RjXk_n",
    "outputId": "2aa04685-5cab-4937-f0ed-8fef86e5a5a9"
   },
   "outputs": [
    {
     "data": {
      "text/plain": [
       "0.7029893924783028"
      ]
     },
     "execution_count": 42,
     "metadata": {},
     "output_type": "execute_result"
    }
   ],
   "source": [
    "sdg_acc"
   ]
  },
  {
   "cell_type": "code",
   "execution_count": 43,
   "metadata": {
    "colab": {
     "base_uri": "https://localhost:8080/"
    },
    "executionInfo": {
     "elapsed": 13,
     "status": "ok",
     "timestamp": 1675516029556,
     "user": {
      "displayName": "Talha Ubaid",
      "userId": "02581465239648343840"
     },
     "user_tz": -300
    },
    "id": "eSTdUf6MI_hX",
    "outputId": "6e570f89-f2fc-46d8-ff09-038dea26392c"
   },
   "outputs": [
    {
     "name": "stdout",
     "output_type": "stream",
     "text": [
      "[6 3 5 4 4 1 3 1 0 1]\n",
      "[6 3 5 5 4 1 0 1 2 5]\n"
     ]
    }
   ],
   "source": [
    "print(y_pred[:10])\n",
    "print(y_test[:10])"
   ]
  },
  {
   "cell_type": "markdown",
   "metadata": {},
   "source": [
    "### Saving Model"
   ]
  },
  {
   "cell_type": "code",
   "execution_count": 44,
   "metadata": {
    "executionInfo": {
     "elapsed": 10,
     "status": "ok",
     "timestamp": 1675516029556,
     "user": {
      "displayName": "Talha Ubaid",
      "userId": "02581465239648343840"
     },
     "user_tz": -300
    },
    "id": "JIDSTEP1I_hY"
   },
   "outputs": [],
   "source": [
    "import pickle\n",
    "filename = str(round(sdg_acc,3))+'_SGD_Model.sav'\n",
    "pickle.dump(sgd, open(\"models/\"+filename, 'wb'))"
   ]
  },
  {
   "cell_type": "markdown",
   "metadata": {
    "id": "HIwRaNm_I_hY"
   },
   "source": [
    "# Applying the decision tree classifier"
   ]
  },
  {
   "cell_type": "code",
   "execution_count": 45,
   "metadata": {
    "colab": {
     "base_uri": "https://localhost:8080/"
    },
    "executionInfo": {
     "elapsed": 3973,
     "status": "ok",
     "timestamp": 1675516033519,
     "user": {
      "displayName": "Talha Ubaid",
      "userId": "02581465239648343840"
     },
     "user_tz": -300
    },
    "id": "DPUX65F2I_hY",
    "outputId": "48cd1c83-add5-436a-893d-d6b31a081644"
   },
   "outputs": [
    {
     "data": {
      "text/html": [
       "<style>#sk-container-id-4 {color: black;background-color: white;}#sk-container-id-4 pre{padding: 0;}#sk-container-id-4 div.sk-toggleable {background-color: white;}#sk-container-id-4 label.sk-toggleable__label {cursor: pointer;display: block;width: 100%;margin-bottom: 0;padding: 0.3em;box-sizing: border-box;text-align: center;}#sk-container-id-4 label.sk-toggleable__label-arrow:before {content: \"▸\";float: left;margin-right: 0.25em;color: #696969;}#sk-container-id-4 label.sk-toggleable__label-arrow:hover:before {color: black;}#sk-container-id-4 div.sk-estimator:hover label.sk-toggleable__label-arrow:before {color: black;}#sk-container-id-4 div.sk-toggleable__content {max-height: 0;max-width: 0;overflow: hidden;text-align: left;background-color: #f0f8ff;}#sk-container-id-4 div.sk-toggleable__content pre {margin: 0.2em;color: black;border-radius: 0.25em;background-color: #f0f8ff;}#sk-container-id-4 input.sk-toggleable__control:checked~div.sk-toggleable__content {max-height: 200px;max-width: 100%;overflow: auto;}#sk-container-id-4 input.sk-toggleable__control:checked~label.sk-toggleable__label-arrow:before {content: \"▾\";}#sk-container-id-4 div.sk-estimator input.sk-toggleable__control:checked~label.sk-toggleable__label {background-color: #d4ebff;}#sk-container-id-4 div.sk-label input.sk-toggleable__control:checked~label.sk-toggleable__label {background-color: #d4ebff;}#sk-container-id-4 input.sk-hidden--visually {border: 0;clip: rect(1px 1px 1px 1px);clip: rect(1px, 1px, 1px, 1px);height: 1px;margin: -1px;overflow: hidden;padding: 0;position: absolute;width: 1px;}#sk-container-id-4 div.sk-estimator {font-family: monospace;background-color: #f0f8ff;border: 1px dotted black;border-radius: 0.25em;box-sizing: border-box;margin-bottom: 0.5em;}#sk-container-id-4 div.sk-estimator:hover {background-color: #d4ebff;}#sk-container-id-4 div.sk-parallel-item::after {content: \"\";width: 100%;border-bottom: 1px solid gray;flex-grow: 1;}#sk-container-id-4 div.sk-label:hover label.sk-toggleable__label {background-color: #d4ebff;}#sk-container-id-4 div.sk-serial::before {content: \"\";position: absolute;border-left: 1px solid gray;box-sizing: border-box;top: 0;bottom: 0;left: 50%;z-index: 0;}#sk-container-id-4 div.sk-serial {display: flex;flex-direction: column;align-items: center;background-color: white;padding-right: 0.2em;padding-left: 0.2em;position: relative;}#sk-container-id-4 div.sk-item {position: relative;z-index: 1;}#sk-container-id-4 div.sk-parallel {display: flex;align-items: stretch;justify-content: center;background-color: white;position: relative;}#sk-container-id-4 div.sk-item::before, #sk-container-id-4 div.sk-parallel-item::before {content: \"\";position: absolute;border-left: 1px solid gray;box-sizing: border-box;top: 0;bottom: 0;left: 50%;z-index: -1;}#sk-container-id-4 div.sk-parallel-item {display: flex;flex-direction: column;z-index: 1;position: relative;background-color: white;}#sk-container-id-4 div.sk-parallel-item:first-child::after {align-self: flex-end;width: 50%;}#sk-container-id-4 div.sk-parallel-item:last-child::after {align-self: flex-start;width: 50%;}#sk-container-id-4 div.sk-parallel-item:only-child::after {width: 0;}#sk-container-id-4 div.sk-dashed-wrapped {border: 1px dashed gray;margin: 0 0.4em 0.5em 0.4em;box-sizing: border-box;padding-bottom: 0.4em;background-color: white;}#sk-container-id-4 div.sk-label label {font-family: monospace;font-weight: bold;display: inline-block;line-height: 1.2em;}#sk-container-id-4 div.sk-label-container {text-align: center;}#sk-container-id-4 div.sk-container {/* jupyter's `normalize.less` sets `[hidden] { display: none; }` but bootstrap.min.css set `[hidden] { display: none !important; }` so we also need the `!important` here to be able to override the default hidden behavior on the sphinx rendered scikit-learn.org. See: https://github.com/scikit-learn/scikit-learn/issues/21755 */display: inline-block !important;position: relative;}#sk-container-id-4 div.sk-text-repr-fallback {display: none;}</style><div id=\"sk-container-id-4\" class=\"sk-top-container\"><div class=\"sk-text-repr-fallback\"><pre>DecisionTreeClassifier()</pre><b>In a Jupyter environment, please rerun this cell to show the HTML representation or trust the notebook. <br />On GitHub, the HTML representation is unable to render, please try loading this page with nbviewer.org.</b></div><div class=\"sk-container\" hidden><div class=\"sk-item\"><div class=\"sk-estimator sk-toggleable\"><input class=\"sk-toggleable__control sk-hidden--visually\" id=\"sk-estimator-id-4\" type=\"checkbox\" checked><label for=\"sk-estimator-id-4\" class=\"sk-toggleable__label sk-toggleable__label-arrow\">DecisionTreeClassifier</label><div class=\"sk-toggleable__content\"><pre>DecisionTreeClassifier()</pre></div></div></div></div></div>"
      ],
      "text/plain": [
       "DecisionTreeClassifier()"
      ]
     },
     "execution_count": 45,
     "metadata": {},
     "output_type": "execute_result"
    }
   ],
   "source": [
    "from sklearn.tree import DecisionTreeClassifier\n",
    "dtc = DecisionTreeClassifier()\n",
    "dtc.fit(X_train, y_train)"
   ]
  },
  {
   "cell_type": "code",
   "execution_count": 46,
   "metadata": {
    "executionInfo": {
     "elapsed": 24,
     "status": "ok",
     "timestamp": 1675516033520,
     "user": {
      "displayName": "Talha Ubaid",
      "userId": "02581465239648343840"
     },
     "user_tz": -300
    },
    "id": "E5z7IlBkI_hY"
   },
   "outputs": [],
   "source": [
    "y_pred = dtc.predict(X_test)\n",
    "dt_acc=accuracy_score(y_test,y_pred)"
   ]
  },
  {
   "cell_type": "code",
   "execution_count": 47,
   "metadata": {
    "colab": {
     "base_uri": "https://localhost:8080/"
    },
    "executionInfo": {
     "elapsed": 24,
     "status": "ok",
     "timestamp": 1675516033520,
     "user": {
      "displayName": "Talha Ubaid",
      "userId": "02581465239648343840"
     },
     "user_tz": -300
    },
    "id": "ZmwQb_P1U8N0",
    "outputId": "65fc0011-55ae-40bf-df4e-8cc124a54284"
   },
   "outputs": [
    {
     "data": {
      "text/plain": [
       "0.5168756027000965"
      ]
     },
     "execution_count": 47,
     "metadata": {},
     "output_type": "execute_result"
    }
   ],
   "source": [
    "dt_acc"
   ]
  },
  {
   "cell_type": "code",
   "execution_count": 50,
   "metadata": {
    "colab": {
     "base_uri": "https://localhost:8080/"
    },
    "executionInfo": {
     "elapsed": 22,
     "status": "ok",
     "timestamp": 1675516033520,
     "user": {
      "displayName": "Talha Ubaid",
      "userId": "02581465239648343840"
     },
     "user_tz": -300
    },
    "id": "Mr1Bpo1iU0Oj",
    "outputId": "909c73fa-c5c4-4319-fdb6-a3dbe8765f13"
   },
   "outputs": [
    {
     "name": "stdout",
     "output_type": "stream",
     "text": [
      "[1 4 3 6 2 2 1 0 3 3]\n",
      "[1 4 5 1 1 2 1 0 1 3]\n"
     ]
    }
   ],
   "source": [
    "print(y_pred[:10])\n",
    "print(y_test[:10])"
   ]
  },
  {
   "cell_type": "code",
   "execution_count": 57,
   "metadata": {
    "executionInfo": {
     "elapsed": 20,
     "status": "ok",
     "timestamp": 1675516033521,
     "user": {
      "displayName": "Talha Ubaid",
      "userId": "02581465239648343840"
     },
     "user_tz": -300
    },
    "id": "sXj8mkn5I_hY"
   },
   "outputs": [],
   "source": [
    "import pickle\n",
    "filename = str(round(dt_acc,3))+'_DT_Model.sav'\n",
    "pickle.dump(dtc, open(\"models/\"+filename, 'wb'))"
   ]
  },
  {
   "cell_type": "markdown",
   "metadata": {
    "id": "iDPI8F0MI_hY"
   },
   "source": [
    "# Testing the best model over a single text file"
   ]
  },
  {
   "cell_type": "code",
   "execution_count": 50,
   "metadata": {
    "executionInfo": {
     "elapsed": 20,
     "status": "ok",
     "timestamp": 1675516033521,
     "user": {
      "displayName": "Talha Ubaid",
      "userId": "02581465239648343840"
     },
     "user_tz": -300
    },
    "id": "D0Ax0jO4I_hZ"
   },
   "outputs": [],
   "source": [
    "# Test over a single text file\n",
    "# text = \"آسان کام ہوگا\"\n",
    "text='پی ٹی آئی کا استعفے واپس نہ لینے کا اعلان'\n",
    "text = clean_text(text)\n",
    "text = vectorizer.transform([text])\n",
    "# label = sgd.predict(text)\n",
    "# label = svc.predict(text)\n",
    "label = rfc.predict(text)"
   ]
  },
  {
   "cell_type": "code",
   "execution_count": 51,
   "metadata": {
    "colab": {
     "base_uri": "https://localhost:8080/"
    },
    "executionInfo": {
     "elapsed": 20,
     "status": "ok",
     "timestamp": 1675516033521,
     "user": {
      "displayName": "Talha Ubaid",
      "userId": "02581465239648343840"
     },
     "user_tz": -300
    },
    "id": "8TwyxemAI_hZ",
    "outputId": "e34c4186-2f75-4e79-8f46-4f7023cff049"
   },
   "outputs": [
    {
     "data": {
      "text/plain": [
       "array([3])"
      ]
     },
     "execution_count": 51,
     "metadata": {},
     "output_type": "execute_result"
    }
   ],
   "source": [
    "label"
   ]
  },
  {
   "cell_type": "code",
   "execution_count": 52,
   "metadata": {
    "colab": {
     "base_uri": "https://localhost:8080/"
    },
    "executionInfo": {
     "elapsed": 19,
     "status": "ok",
     "timestamp": 1675516033522,
     "user": {
      "displayName": "Talha Ubaid",
      "userId": "02581465239648343840"
     },
     "user_tz": -300
    },
    "id": "GcGdVkWLI_hZ",
    "outputId": "0e63a547-6e1d-4c30-e7ed-4fe8c8137221"
   },
   "outputs": [
    {
     "data": {
      "text/plain": [
       "array(['A', 'D', 'E', 'H', 'P', 'S', 'T'], dtype=object)"
      ]
     },
     "execution_count": 52,
     "metadata": {},
     "output_type": "execute_result"
    }
   ],
   "source": [
    "le.classes_"
   ]
  },
  {
   "cell_type": "code",
   "execution_count": 53,
   "metadata": {
    "colab": {
     "base_uri": "https://localhost:8080/"
    },
    "executionInfo": {
     "elapsed": 16,
     "status": "ok",
     "timestamp": 1675516033522,
     "user": {
      "displayName": "Talha Ubaid",
      "userId": "02581465239648343840"
     },
     "user_tz": -300
    },
    "id": "ufdhMH97Wz3Q",
    "outputId": "6ab900ff-c038-405c-e2d8-1102c76dcc51"
   },
   "outputs": [
    {
     "name": "stdout",
     "output_type": "stream",
     "text": [
      "Label of the text is: Joy/Happiness\n"
     ]
    }
   ],
   "source": [
    "label_keys = ['A', 'D', 'E', 'H', 'P', 'S', 'T']\n",
    "\n",
    "label_dict = {\n",
    "    'A': \"Anger\",\n",
    "    'D': \"Disgust\",\n",
    "    'E': \"Surprise\",\n",
    "    'H': \"Joy/Happiness\",    \n",
    "    'P': \"Anticipation\",\n",
    "    'S': \"Sadness\",\n",
    "    'T': \"Trust\",\n",
    "}\n",
    "print(\"Label of the text is:\", label_dict[label_keys[label[0]]])"
   ]
  },
  {
   "cell_type": "markdown",
   "metadata": {
    "id": "AaQJImgCaAy2"
   },
   "source": [
    "## Accuraccy Comparison "
   ]
  },
  {
   "cell_type": "code",
   "execution_count": 65,
   "metadata": {
    "colab": {
     "base_uri": "https://localhost:8080/",
     "height": 350
    },
    "executionInfo": {
     "elapsed": 437,
     "status": "ok",
     "timestamp": 1675516489182,
     "user": {
      "displayName": "Talha Ubaid",
      "userId": "02581465239648343840"
     },
     "user_tz": -300
    },
    "id": "J9NH8TOzXZFr",
    "outputId": "67ba26b8-6eab-48a9-89ec-8bf4426bfea5"
   },
   "outputs": [
    {
     "data": {
      "image/png": "[encoded data removed]",
      "text/plain": [
       "<Figure size 1000x500 with 1 Axes>"
      ]
     },
     "metadata": {},
     "output_type": "display_data"
    }
   ],
   "source": [
    "import numpy as np\n",
    "import matplotlib.pyplot as plt\n",
    "\n",
    "\n",
    "# creating the dataset\n",
    "data = {'SVC':svc_acc, 'RF':rf_acc, 'DT':dt_acc,'SDG':sdg_acc}\n",
    "courses = list(data.keys())\n",
    "values = list(data.values())\n",
    "\n",
    "fig = plt.figure(figsize = (10, 5))\n",
    "\n",
    "# creating the bar plot\n",
    "plt.bar(courses, values, color=['black', 'red', 'green', 'blue'],\n",
    "\t\twidth = 0.3)\n",
    "\n",
    "plt.xlabel(\"State of the art Models\")\n",
    "plt.ylabel(\"Accuracy\")\n",
    "plt.title(\"Accuracies Comparison\")\n",
    "plt.show()\n"
   ]
  },
  {
   "cell_type": "markdown",
   "metadata": {
    "id": "zYA_vLZ4lBf0"
   },
   "source": [
    "## Inferencing by loading model"
   ]
  },
  {
   "cell_type": "code",
   "execution_count": 58,
   "metadata": {
    "colab": {
     "base_uri": "https://localhost:8080/"
    },
    "executionInfo": {
     "elapsed": 521,
     "status": "ok",
     "timestamp": 1675516760952,
     "user": {
      "displayName": "Talha Ubaid",
      "userId": "02581465239648343840"
     },
     "user_tz": -300
    },
    "id": "smvN_PAHkN37",
    "outputId": "9a9d318d-1149-4a4f-9bfe-7237576b1064"
   },
   "outputs": [
    {
     "name": "stdout",
     "output_type": "stream",
     "text": [
      "Model Loaded\n",
      "Vectorizer Loaded\n"
     ]
    }
   ],
   "source": [
    "model = pickle.load(open(\"models/0.703_SGD_Model.sav\", 'rb'))\n",
    "Vectorizer = pickle.load(open(\"Vectorizer.sav\", 'rb'))\n",
    "print(\"Model Loaded\")\n",
    "print(\"Vectorizer Loaded\")\n",
    "\n",
    "stopwords_list = [\"اب\", \"ابھی\", \"اپنا\", \"اپنے\", \"اپنی\", \"اٹھا\", \"اس\", \"اسے\", \"اسی\", \"اگر\", \"ان\", \"انہوں\", \"انہی\",\n",
    "                  \"انہیں\", \"انھیں\", \"او\", \"اور\", \"اے\", \"ایسا\", \"ایسے\", \"ایسی\", \"ایک\", \"آ\", \"آتا\", \"آتے\", \"آتی\", \"آگے\",\n",
    "                  \"آنا\", \"آنے\", \"آنی\", \"آئے\", \"آئی\", \"آئیں\", \"آیا\", \"با\", \"بڑا\", \"بڑے\", \"بڑی\", \"بعد\", \"بعض\", \"بلکہ\",\n",
    "                  \"بہت\", \"بھی\", \"بے\", \"پاس\", \"پر\", \"پہلے\", \"پھر\", \"تا\", \"تاکہ\", \"تب\", \"تجھ\", \"تجھے\", \"تک\", \"تم\", \"تمام\",\n",
    "                  \"تمہارا\", \"تمہارے\", \"تمھارے\", \"تمہاری\", \"تمہیں\", \"تمھیں\", \"تھا\", \"تھے\", \"تھی\", \"تھیں\", \"تو\", \"تیری\",\n",
    "                  \"تیرے\", \"جا\", \"جاتا\", \"جاتی\", \"جاتے\", \"جاتی\", \"جانے\", \"جانی\", \"جاؤ\", \"جائے\", \"جائیں\", \"جب\", \"جس\",\n",
    "                  \"جن\", \"جنہوں\", \"جنہیں\", \"جو\", \"جیسا\", \"جیسے\", \"جیسی\", \"جیسوں\", \"چاہیئے\", \"چلا\", \"چاہے\", \"چونکہ\",\n",
    "                  \"حالاں\", \"حالانکہ\", \"دو\", \"دونوں\", \"دوں\", \"دے\", \"دی\", \"دیا\", \"دیں\", \"دیے\", \"دیتا\", \"دیتے\", \"دیتی\",\n",
    "                  \"دینا\", \"دینے\", \"دینی\", \"دیئے\", \"ڈالا\", \"ڈالنا\", \"ڈالنے\", \"ڈالنی\", \"ڈالے\", \"ڈالی\", \"ذرا\", \"رکھا\",\n",
    "                  \"رکھتا\", \"رکھتے\", \"رکھتی\", \"رکھنا\", \"رکھنے\", \"رکھنی\", \"رکھے\", \"رکھی\", \"رہ\", \"رہا\", \"رہتا\", \"رہتے\",\n",
    "                  \"رہتی\", \"رہنا\", \"رہنے\", \"رہنی\", \"رہو\", \"رہے\", \"رہی\", \"رہیں\", \"زیادہ\", \"سا\", \"سامنے\", \"سب\", \"سکتا\",\n",
    "                  \"سو\", \"سے\", \"سی\", \"شاید\", \"صرف\", \"طرح\", \"طرف\", \"عین\", \"کا\", \"کبھی\", \"کچھ\", \"کہہ\", \"کر\", \"کرتا\",\n",
    "                  \"کرتے\", \"کرتی\", \"کرنا\", \"کرنے\", \"کرو\", \"کروں\", \"کرے\", \"کریں\", \"کس\", \"کسے\", \"کسی\", \"کہ\", \"کہا\", \"کہے\",\n",
    "                  \"کو\", \"کون\", \"کوئی\", \"کے\", \"کی\", \"کیا\", \"کیسے\", \"کیوں\", \"کیونکہ\", \"کیے\", \"کئے\", \"گا\", \"گویا\", \"گے\",\n",
    "                  \"گی\", \"گیا\", \"گئے\", \"گئی\", \"لا\", \"لاتا\", \"لاتے\", \"ل\", \"اتی\", \"لانا\", \"لانے\", \"لانی\", \"لایا\", \"لائے\",\n",
    "                  \"لائی\", \"لگا\", \"لگے\", \"لگی\", \"لگیں\", \"لو\", \"لے\", \"لی\", \"لیا\", \"لیتا\", \"لیتے\", \"لیتی\", \"لیکن\", \"لیں\",\n",
    "                  \"لیے\", \"لئے\", \"مجھ\", \"مجھے\", \"مگر\", \"میرا\", \"میرے\", \"میری\", \"میں\", \"نا\", \"نہ\", \"نہایت\", \"نہیں\", \"نے\",\n",
    "                  \"ہاں\", \"ہر\", \"ہم\", \"ہمارا\", \"ہمارے\", \"ہماری\", \"ہو\", \"ہوا\", \"ہوتا\", \"ہوتے\", \"ہوتی\", \"ہوتیں\", \"ہوں\",\n",
    "                  \"ہونا\", \"ہونگے\", \"ہونے\", \"ہونی\", \"ہوئے\", \"ہوئی\", \"ہوئیں\", \"ہے\", \"ہی\", \"ہیں\", \"و\", \"والا\", \"والوں\",\n",
    "                  \"والے\", \"والی\", \"وہ\", \"وہاں\", \"وہی\", \"وہیں\", \"یا\", \"یعنی\", \"یہ\", \"یہاں\", \"یہی\", \"یہیں\"]\n"
   ]
  },
  {
   "cell_type": "code",
   "execution_count": 59,
   "metadata": {
    "executionInfo": {
     "elapsed": 618,
     "status": "ok",
     "timestamp": 1675516768404,
     "user": {
      "displayName": "Talha Ubaid",
      "userId": "02581465239648343840"
     },
     "user_tz": -300
    },
    "id": "fGnHiqlHk4md"
   },
   "outputs": [],
   "source": [
    "def clean_text(text):\n",
    "    text = normalize_whitespace(text)\n",
    "    text = remove_punctuation(text)\n",
    "    text = remove_accents(text)\n",
    "    text = replace_urls(text)\n",
    "    text = replace_emails(text)\n",
    "    text = replace_currency_symbols(text)\n",
    "    text = normalize_characters(text)\n",
    "    text = normalize_combine_characters(text)\n",
    "    text = english_characters_space(text)\n",
    "    text = digits_space(text)\n",
    "    text = text.lower()\n",
    "    text = normalize(text)\n",
    "    words = text.split()\n",
    "    words = [word for word in words if not word in stopwords_list]\n",
    "    text = \" \".join(words)\n",
    "    return text"
   ]
  },
  {
   "cell_type": "code",
   "execution_count": 60,
   "metadata": {
    "executionInfo": {
     "elapsed": 632,
     "status": "ok",
     "timestamp": 1675517425374,
     "user": {
      "displayName": "Talha Ubaid",
      "userId": "02581465239648343840"
     },
     "user_tz": -300
    },
    "id": "fCaVkH_GkXv8"
   },
   "outputs": [],
   "source": [
    "# text = \"آسان کام ہوگا\"\n",
    "text = \"آج بہت مزا آیا\"\n",
    "text = clean_text(text)\n",
    "text = Vectorizer.transform([text])\n",
    "label = model.predict(text)"
   ]
  },
  {
   "cell_type": "code",
   "execution_count": 61,
   "metadata": {
    "colab": {
     "base_uri": "https://localhost:8080/"
    },
    "executionInfo": {
     "elapsed": 474,
     "status": "ok",
     "timestamp": 1675517427878,
     "user": {
      "displayName": "Talha Ubaid",
      "userId": "02581465239648343840"
     },
     "user_tz": -300
    },
    "id": "jQGSHOUpkmuJ",
    "outputId": "4ac25f23-998f-45d5-ad2f-b2dd1b5616fd"
   },
   "outputs": [
    {
     "data": {
      "text/plain": [
       "array([5])"
      ]
     },
     "execution_count": 61,
     "metadata": {},
     "output_type": "execute_result"
    }
   ],
   "source": [
    "label"
   ]
  },
  {
   "cell_type": "code",
   "execution_count": 62,
   "metadata": {
    "colab": {
     "base_uri": "https://localhost:8080/"
    },
    "executionInfo": {
     "elapsed": 3,
     "status": "ok",
     "timestamp": 1675517429743,
     "user": {
      "displayName": "Talha Ubaid",
      "userId": "02581465239648343840"
     },
     "user_tz": -300
    },
    "id": "N7FaO207koqR",
    "outputId": "76cf8271-f9e4-46ed-b8f0-56e933c640ad"
   },
   "outputs": [
    {
     "name": "stdout",
     "output_type": "stream",
     "text": [
      "Label of the text is: Sadness\n"
     ]
    }
   ],
   "source": [
    "label_keys = ['A', 'D', 'E', 'H', 'P', 'S', 'T']\n",
    "\n",
    "label_dict = {\n",
    "    'H': \"Joy/Happiness\",\n",
    "    'S': \"Sadness\",\n",
    "    'A': \"Anger\",\n",
    "    'D': \"Disgust\",\n",
    "    'P': \"Anticipation\",\n",
    "    'T': \"Trust\",\n",
    "    'E': \"Surprise\",\n",
    "    'F': \"Fear\"\n",
    "}\n",
    "print(\"Label of the text is:\", label_dict[label_keys[label[0]]])"
   ]
  },
  {
   "cell_type": "code",
   "execution_count": null,
   "metadata": {},
   "outputs": [],
   "source": []
  }
 ],
 "metadata": {
  "accelerator": "GPU",
  "colab": {
   "provenance": []
  },
  "gpuClass": "standard",
  "kernelspec": {
   "display_name": "Python 3 (ipykernel)",
   "language": "python",
   "name": "python3"
  },
  "language_info": {
   "codemirror_mode": {
    "name": "ipython",
    "version": 3
   },
   "file_extension": ".py",
   "mimetype": "text/x-python",
   "name": "python",
   "nbconvert_exporter": "python",
   "pygments_lexer": "ipython3",
   "version": "3.10.9"
  }
 },
 "nbformat": 4,
 "nbformat_minor": 1
}
